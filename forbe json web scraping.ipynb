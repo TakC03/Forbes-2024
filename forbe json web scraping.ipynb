{
 "cells": [
  {
   "cell_type": "code",
   "execution_count": 6,
   "metadata": {},
   "outputs": [
    {
     "name": "stdout",
     "output_type": "stream",
     "text": [
      "finish\n"
     ]
    }
   ],
   "source": [
    "import requests\n",
    "import pandas as pd\n",
    "\n",
    "url = 'https://www.forbes.com/forbesapi/person/billionaires/2024/position/true.json?filter=uri,finalWorth,age,country,source,qas,rank,category,person,personName,industries,organization,gender,firstName,lastName,squareImage,bios'\n",
    "\n",
    "r = requests.get(url)\n",
    "json_data = r.json()\n",
    "\n",
    "data = []\n",
    "\n",
    "for item in json_data['personList']['personsLists']:\n",
    "    try:\n",
    "        rank = item['rank']\n",
    "    except:\n",
    "        rank = ''\n",
    "    try:\n",
    "        personName = item['personName']\n",
    "    except:\n",
    "        personName = ''   \n",
    "    try:\n",
    "        age = item['age']\n",
    "    except:\n",
    "        age = ''   \n",
    "    try:\n",
    "        country = item['country']\n",
    "    except:\n",
    "        country = '' \n",
    "    try:\n",
    "        source = item['source']\n",
    "    except:\n",
    "        source = ''\n",
    "    try:\n",
    "        industries = item['industries']\n",
    "    except:\n",
    "        industries = '' \n",
    "    try:\n",
    "        title = item['title']\n",
    "    except:\n",
    "        title = ''\n",
    "    try:\n",
    "        finalWorth = item['finalWorth']\n",
    "    except:\n",
    "        finalWorth = ''\n",
    "\n",
    "    dic = {\n",
    "        \"rank\":rank,\n",
    "        \"personName\":personName,\n",
    "        \"age\":age,\n",
    "        \"country\":country,\n",
    "        \"source\":source,\n",
    "        \"industries\":industries,\n",
    "        \"title\":title,\n",
    "        \"finalWorth\":finalWorth\n",
    "\n",
    "    }\n",
    "    data.append(dic)\n",
    "df = pd.DataFrame(data)\n",
    "df.to_csv('billionaires data.csv',index = False)\n",
    "print(\"finish\")"
   ]
  },
  {
   "cell_type": "code",
   "execution_count": null,
   "metadata": {},
   "outputs": [],
   "source": []
  },
  {
   "cell_type": "code",
   "execution_count": null,
   "metadata": {},
   "outputs": [],
   "source": []
  }
 ],
 "metadata": {
  "kernelspec": {
   "display_name": "base",
   "language": "python",
   "name": "python3"
  },
  "language_info": {
   "codemirror_mode": {
    "name": "ipython",
    "version": 3
   },
   "file_extension": ".py",
   "mimetype": "text/x-python",
   "name": "python",
   "nbconvert_exporter": "python",
   "pygments_lexer": "ipython3",
   "version": "3.12.4"
  }
 },
 "nbformat": 4,
 "nbformat_minor": 2
}
